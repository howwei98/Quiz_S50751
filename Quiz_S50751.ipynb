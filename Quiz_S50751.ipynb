{
 "cells": [
  {
   "cell_type": "code",
   "execution_count": 38,
   "metadata": {},
   "outputs": [
    {
     "name": "stdout",
     "output_type": "stream",
     "text": [
      "10.0\n"
     ]
    }
   ],
   "source": [
    "class Square:\n",
    "    side = 1.0\n",
    "    \n",
    "    def __init__(self, side):\n",
    "        self.side = side\n",
    "    \n",
    "    def setSide(self):\n",
    "        if self.side < 0:\n",
    "            self.side = 0\n",
    "            print(float(self.side))\n",
    "        else:\n",
    "            print(float(self.side))\n",
    "                  \n",
    "square = Square(10.0)\n",
    "square.setSide()"
   ]
  }
 ],
 "metadata": {
  "kernelspec": {
   "display_name": "Python 3",
   "language": "python",
   "name": "python3"
  },
  "language_info": {
   "codemirror_mode": {
    "name": "ipython",
    "version": 3
   },
   "file_extension": ".py",
   "mimetype": "text/x-python",
   "name": "python",
   "nbconvert_exporter": "python",
   "pygments_lexer": "ipython3",
   "version": "3.8.5"
  }
 },
 "nbformat": 4,
 "nbformat_minor": 4
}
